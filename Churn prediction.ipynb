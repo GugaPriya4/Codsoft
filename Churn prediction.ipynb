{
 "cells": [
  {
   "cell_type": "code",
   "execution_count": 1,
   "id": "a8a2b5c5-45ea-4552-afd6-1b4608a96d87",
   "metadata": {
    "tags": []
   },
   "outputs": [],
   "source": [
    "import numpy as np # linear algebra\n",
    "import pandas as pd"
   ]
  },
  {
   "cell_type": "code",
   "execution_count": 8,
   "id": "d83459de-0f99-4786-8a0e-5f4be74029ed",
   "metadata": {
    "tags": []
   },
   "outputs": [],
   "source": [
    "import numpy as np \n",
    "import pandas as pd \n",
    "from scipy.stats import mode \n",
    "import matplotlib.pyplot as plt \n",
    "import seaborn as sns \n",
    "from sklearn.preprocessing import LabelEncoder \n",
    "from sklearn.model_selection import train_test_split, cross_val_score \n",
    "from sklearn.svm import SVC \n",
    "from sklearn.naive_bayes import GaussianNB \n",
    "from sklearn.ensemble import RandomForestClassifier \n",
    "from sklearn.metrics import accuracy_score, confusion_matrix, classification_report, roc_curve, roc_auc_score\n",
    "  \n",
    "%matplotlib inline"
   ]
  },
  {
   "cell_type": "code",
   "execution_count": 9,
   "id": "312300e4-97c7-4583-902a-546331b2c7c1",
   "metadata": {
    "tags": []
   },
   "outputs": [
    {
     "name": "stdout",
     "output_type": "stream",
     "text": [
      "<class 'pandas.core.frame.DataFrame'>\n",
      "RangeIndex: 10000 entries, 0 to 9999\n",
      "Data columns (total 14 columns):\n",
      " #   Column             Non-Null Count  Dtype  \n",
      "---  ------             --------------  -----  \n",
      " 0   CreditScore        10000 non-null  int64  \n",
      " 1   Age                10000 non-null  int64  \n",
      " 2   Tenure             10000 non-null  int64  \n",
      " 3   Balance            10000 non-null  float64\n",
      " 4   NumOfProducts      10000 non-null  int64  \n",
      " 5   HasCrCard          10000 non-null  int64  \n",
      " 6   IsActiveMember     10000 non-null  int64  \n",
      " 7   EstimatedSalary    10000 non-null  float64\n",
      " 8   Exited             10000 non-null  int64  \n",
      " 9   Geography_France   10000 non-null  uint8  \n",
      " 10  Geography_Germany  10000 non-null  uint8  \n",
      " 11  Geography_Spain    10000 non-null  uint8  \n",
      " 12  Gender_Female      10000 non-null  uint8  \n",
      " 13  Gender_Male        10000 non-null  uint8  \n",
      "dtypes: float64(2), int64(7), uint8(5)\n",
      "memory usage: 752.1 KB\n"
     ]
    },
    {
     "data": {
      "image/png": "[encoded data removed]",
      "text/plain": [
       "<Figure size 1000x600 with 1 Axes>"
      ]
     },
     "metadata": {},
     "output_type": "display_data"
    }
   ],
   "source": [
    "data = pd.read_csv('Churn_Modelling.csv').dropna(axis=1)\n",
    "data.drop(columns=['Surname', 'RowNumber', 'CustomerId'], inplace=True)\n",
    "data = pd.get_dummies(data, columns=['Geography', 'Gender'])\n",
    "data.info()\n",
    "\n",
    "churn_count = data['Exited'].value_counts()\n",
    "temp_df = pd.DataFrame({\n",
    "    'Exited':churn_count.index,\n",
    "    'Counts': churn_count.values\n",
    "})\n",
    "\n",
    "plt.figure(figsize=(10, 6))\n",
    "sns.barplot(x='Exited', y='Counts', data=temp_df)\n",
    "plt.xticks(rotation=90)\n",
    "plt.show()"
   ]
  },
  {
   "cell_type": "code",
   "execution_count": 10,
   "id": "a50b7ac3-b73e-4206-a665-fce5e405c422",
   "metadata": {
    "tags": []
   },
   "outputs": [
    {
     "name": "stdout",
     "output_type": "stream",
     "text": [
      "(8000, 13)\n",
      "(2000, 13)\n"
     ]
    }
   ],
   "source": [
    "X = data.iloc[:, :-1]\n",
    "y = data.iloc[:, -1]\n",
    "\n",
    "X_train, X_test, y_train, y_test = train_test_split(X, y, test_size=0.2, random_state=42)\n",
    "print(X_train.shape)\n",
    "print(X_test.shape)"
   ]
  },
  {
   "cell_type": "code",
   "execution_count": 11,
   "id": "0b3ec851-6dc5-45c1-ac1e-d90049861b5c",
   "metadata": {
    "tags": []
   },
   "outputs": [
    {
     "name": "stdout",
     "output_type": "stream",
     "text": [
      "(1000, 13)\n",
      "(1000, 13)\n"
     ]
    }
   ],
   "source": [
    "X_test, X_val, y_test, y_val = train_test_split(X_test, y_test, test_size=0.5, random_state=42)\n",
    "print(X_test.shape)\n",
    "print(X_val.shape)"
   ]
  },
  {
   "cell_type": "code",
   "execution_count": 12,
   "id": "e7810d7c-ad4d-4d13-8a7c-77023b850bcd",
   "metadata": {
    "tags": []
   },
   "outputs": [
    {
     "name": "stdout",
     "output_type": "stream",
     "text": [
      "============================================================\n",
      "SVC\n",
      "Scores: [0.545 0.545 0.545 0.546 0.546 0.546 0.546 0.546 0.546 0.546]\n",
      "Mean Score: 0.5457000000000001\n",
      "============================================================\n",
      "Gaussian NB\n",
      "Scores: [0.619 0.591 0.619 0.603 0.639 0.613 0.614 0.616 0.607 0.592]\n",
      "Mean Score: 0.6113\n",
      "============================================================\n",
      "Random Forest\n",
      "Scores: [1. 1. 1. 1. 1. 1. 1. 1. 1. 1.]\n",
      "Mean Score: 1.0\n"
     ]
    }
   ],
   "source": [
    "def cv_scoring(estimator, X, y): \n",
    "    return accuracy_score(y, estimator.predict(X)) \n",
    "  \n",
    "models = { \n",
    "    \"SVC\":SVC(), \n",
    "    \"Gaussian NB\":GaussianNB(), \n",
    "    \"Random Forest\":RandomForestClassifier(random_state=18) \n",
    "} \n",
    "  \n",
    "for model_name in models: \n",
    "    model = models[model_name] \n",
    "    scores = cross_val_score(model, X, y, cv = 10,  \n",
    "                             n_jobs = -1,  \n",
    "                             scoring = cv_scoring) \n",
    "    print(\"==\"*30) \n",
    "    print(model_name) \n",
    "    print(f\"Scores: {scores}\") \n",
    "    print(f\"Mean Score: {np.mean(scores)}\")\n"
   ]
  },
  {
   "cell_type": "code",
   "execution_count": 13,
   "id": "5ce96e52-812f-4078-a4b0-f0cb30192071",
   "metadata": {
    "tags": []
   },
   "outputs": [
    {
     "name": "stdout",
     "output_type": "stream",
     "text": [
      "Accuracy on train data by Random Forest Classifier: 100.0\n",
      "Accuracy on test data by Random Forest Classifier: 100.0\n"
     ]
    },
    {
     "data": {
      "image/png": "[encoded data removed]",
      "text/plain": [
       "<Figure size 1200x800 with 2 Axes>"
      ]
     },
     "metadata": {},
     "output_type": "display_data"
    }
   ],
   "source": [
    "rf_model = RandomForestClassifier(random_state=18) \n",
    "rf_model.fit(X_train, y_train) \n",
    "preds = rf_model.predict(X_val) \n",
    "print(f\"Accuracy on train data by Random Forest Classifier: {accuracy_score(y_train, rf_model.predict(X_train))*100}\") \n",
    "  \n",
    "print(f\"Accuracy on test data by Random Forest Classifier: {accuracy_score(y_val, preds)*100}\") \n",
    "  \n",
    "cf_matrix = confusion_matrix(y_val, preds) \n",
    "plt.figure(figsize=(12,8)) \n",
    "sns.heatmap(cf_matrix, annot=True) \n",
    "plt.title(\"Confusion Matrix for Random Forest Classifier on Test Data\") \n",
    "plt.show()"
   ]
  },
  {
   "cell_type": "code",
   "execution_count": null,
   "id": "e9ffcbe0-60f7-4a8c-beea-af4ad99f7b71",
   "metadata": {},
   "outputs": [],
   "source": []
  },
  {
   "cell_type": "code",
   "execution_count": null,
   "id": "5a8b88b8-ebcd-4191-aeb3-645af83f8858",
   "metadata": {},
   "outputs": [],
   "source": []
  }
 ],
 "metadata": {
  "kernelspec": {
   "display_name": "Python 3 (ipykernel)",
   "language": "python",
   "name": "python3"
  },
  "language_info": {
   "codemirror_mode": {
    "name": "ipython",
    "version": 3
   },
   "file_extension": ".py",
   "mimetype": "text/x-python",
   "name": "python",
   "nbconvert_exporter": "python",
   "pygments_lexer": "ipython3",
   "version": "3.11.4"
  }
 },
 "nbformat": 4,
 "nbformat_minor": 5
}
